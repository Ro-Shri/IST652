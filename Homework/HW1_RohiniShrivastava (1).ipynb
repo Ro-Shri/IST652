{
  "nbformat": 4,
  "nbformat_minor": 0,
  "metadata": {
    "colab": {
      "name": "Untitled11.ipynb",
      "provenance": [],
      "collapsed_sections": []
    },
    "kernelspec": {
      "name": "python3",
      "display_name": "Python 3"
    },
    "language_info": {
      "name": "python"
    }
  },
  "cells": [
    {
      "cell_type": "code",
      "metadata": {
        "colab": {
          "base_uri": "https://localhost:8080/",
          "height": 438
        },
        "id": "ktjNJYiri_gh",
        "outputId": "f6b69d42-e775-428e-9b07-ded8ec66274d"
      },
      "source": [
        "import pandas as pd\n",
        "from matplotlib import pyplot as plt\n",
        "\n",
        "datapath = 'donors_data.csv'  #put your path here/Donor_Data.csv'\n",
        "\n",
        "#Read the donor data into a dataframe using comma as the separator.\n",
        "\n",
        "df = pd.read_csv(datapath, sep=',')\n",
        "df.dropna()"
      ],
      "execution_count": 21,
      "outputs": [
        {
          "output_type": "execute_result",
          "data": {
            "text/html": [
              "<div>\n",
              "<style scoped>\n",
              "    .dataframe tbody tr th:only-of-type {\n",
              "        vertical-align: middle;\n",
              "    }\n",
              "\n",
              "    .dataframe tbody tr th {\n",
              "        vertical-align: top;\n",
              "    }\n",
              "\n",
              "    .dataframe thead th {\n",
              "        text-align: right;\n",
              "    }\n",
              "</style>\n",
              "<table border=\"1\" class=\"dataframe\">\n",
              "  <thead>\n",
              "    <tr style=\"text-align: right;\">\n",
              "      <th></th>\n",
              "      <th>Row Id</th>\n",
              "      <th>Row Id.</th>\n",
              "      <th>zipconvert_2</th>\n",
              "      <th>zipconvert_3</th>\n",
              "      <th>zipconvert_4</th>\n",
              "      <th>zipconvert_5</th>\n",
              "      <th>homeowner dummy</th>\n",
              "      <th>NUMCHLD</th>\n",
              "      <th>INCOME</th>\n",
              "      <th>gender dummy</th>\n",
              "      <th>WEALTH</th>\n",
              "      <th>HV</th>\n",
              "      <th>Icmed</th>\n",
              "      <th>Icavg</th>\n",
              "      <th>IC15</th>\n",
              "      <th>NUMPROM</th>\n",
              "      <th>RAMNTALL</th>\n",
              "      <th>MAXRAMNT</th>\n",
              "      <th>LASTGIFT</th>\n",
              "      <th>totalmonths</th>\n",
              "      <th>TIMELAG</th>\n",
              "      <th>AVGGIFT</th>\n",
              "      <th>TARGET_B</th>\n",
              "      <th>TARGET_D</th>\n",
              "    </tr>\n",
              "  </thead>\n",
              "  <tbody>\n",
              "    <tr>\n",
              "      <th>0</th>\n",
              "      <td>1</td>\n",
              "      <td>17</td>\n",
              "      <td>0</td>\n",
              "      <td>1</td>\n",
              "      <td>0</td>\n",
              "      <td>0</td>\n",
              "      <td>1</td>\n",
              "      <td>1</td>\n",
              "      <td>5</td>\n",
              "      <td>1</td>\n",
              "      <td>9</td>\n",
              "      <td>1399</td>\n",
              "      <td>637</td>\n",
              "      <td>703</td>\n",
              "      <td>1</td>\n",
              "      <td>74</td>\n",
              "      <td>102.0</td>\n",
              "      <td>6.0</td>\n",
              "      <td>5.0</td>\n",
              "      <td>29</td>\n",
              "      <td>3</td>\n",
              "      <td>4.857143</td>\n",
              "      <td>1</td>\n",
              "      <td>5.0</td>\n",
              "    </tr>\n",
              "    <tr>\n",
              "      <th>1</th>\n",
              "      <td>2</td>\n",
              "      <td>25</td>\n",
              "      <td>1</td>\n",
              "      <td>0</td>\n",
              "      <td>0</td>\n",
              "      <td>0</td>\n",
              "      <td>1</td>\n",
              "      <td>1</td>\n",
              "      <td>1</td>\n",
              "      <td>0</td>\n",
              "      <td>7</td>\n",
              "      <td>698</td>\n",
              "      <td>422</td>\n",
              "      <td>463</td>\n",
              "      <td>4</td>\n",
              "      <td>46</td>\n",
              "      <td>94.0</td>\n",
              "      <td>12.0</td>\n",
              "      <td>12.0</td>\n",
              "      <td>34</td>\n",
              "      <td>6</td>\n",
              "      <td>9.400000</td>\n",
              "      <td>1</td>\n",
              "      <td>10.0</td>\n",
              "    </tr>\n",
              "    <tr>\n",
              "      <th>2</th>\n",
              "      <td>3</td>\n",
              "      <td>29</td>\n",
              "      <td>0</td>\n",
              "      <td>0</td>\n",
              "      <td>0</td>\n",
              "      <td>1</td>\n",
              "      <td>0</td>\n",
              "      <td>2</td>\n",
              "      <td>5</td>\n",
              "      <td>1</td>\n",
              "      <td>8</td>\n",
              "      <td>828</td>\n",
              "      <td>358</td>\n",
              "      <td>376</td>\n",
              "      <td>13</td>\n",
              "      <td>32</td>\n",
              "      <td>30.0</td>\n",
              "      <td>10.0</td>\n",
              "      <td>5.0</td>\n",
              "      <td>29</td>\n",
              "      <td>7</td>\n",
              "      <td>4.285714</td>\n",
              "      <td>1</td>\n",
              "      <td>5.0</td>\n",
              "    </tr>\n",
              "    <tr>\n",
              "      <th>3</th>\n",
              "      <td>4</td>\n",
              "      <td>38</td>\n",
              "      <td>0</td>\n",
              "      <td>0</td>\n",
              "      <td>0</td>\n",
              "      <td>1</td>\n",
              "      <td>1</td>\n",
              "      <td>1</td>\n",
              "      <td>3</td>\n",
              "      <td>0</td>\n",
              "      <td>4</td>\n",
              "      <td>1471</td>\n",
              "      <td>484</td>\n",
              "      <td>546</td>\n",
              "      <td>4</td>\n",
              "      <td>94</td>\n",
              "      <td>177.0</td>\n",
              "      <td>10.0</td>\n",
              "      <td>8.0</td>\n",
              "      <td>30</td>\n",
              "      <td>3</td>\n",
              "      <td>7.080000</td>\n",
              "      <td>0</td>\n",
              "      <td>0.0</td>\n",
              "    </tr>\n",
              "    <tr>\n",
              "      <th>4</th>\n",
              "      <td>5</td>\n",
              "      <td>40</td>\n",
              "      <td>0</td>\n",
              "      <td>1</td>\n",
              "      <td>0</td>\n",
              "      <td>0</td>\n",
              "      <td>1</td>\n",
              "      <td>1</td>\n",
              "      <td>4</td>\n",
              "      <td>0</td>\n",
              "      <td>8</td>\n",
              "      <td>547</td>\n",
              "      <td>386</td>\n",
              "      <td>432</td>\n",
              "      <td>7</td>\n",
              "      <td>20</td>\n",
              "      <td>23.0</td>\n",
              "      <td>11.0</td>\n",
              "      <td>11.0</td>\n",
              "      <td>30</td>\n",
              "      <td>6</td>\n",
              "      <td>7.666667</td>\n",
              "      <td>0</td>\n",
              "      <td>0.0</td>\n",
              "    </tr>\n",
              "    <tr>\n",
              "      <th>...</th>\n",
              "      <td>...</td>\n",
              "      <td>...</td>\n",
              "      <td>...</td>\n",
              "      <td>...</td>\n",
              "      <td>...</td>\n",
              "      <td>...</td>\n",
              "      <td>...</td>\n",
              "      <td>...</td>\n",
              "      <td>...</td>\n",
              "      <td>...</td>\n",
              "      <td>...</td>\n",
              "      <td>...</td>\n",
              "      <td>...</td>\n",
              "      <td>...</td>\n",
              "      <td>...</td>\n",
              "      <td>...</td>\n",
              "      <td>...</td>\n",
              "      <td>...</td>\n",
              "      <td>...</td>\n",
              "      <td>...</td>\n",
              "      <td>...</td>\n",
              "      <td>...</td>\n",
              "      <td>...</td>\n",
              "      <td>...</td>\n",
              "    </tr>\n",
              "    <tr>\n",
              "      <th>3115</th>\n",
              "      <td>3116</td>\n",
              "      <td>23256</td>\n",
              "      <td>0</td>\n",
              "      <td>0</td>\n",
              "      <td>0</td>\n",
              "      <td>1</td>\n",
              "      <td>1</td>\n",
              "      <td>1</td>\n",
              "      <td>4</td>\n",
              "      <td>0</td>\n",
              "      <td>8</td>\n",
              "      <td>697</td>\n",
              "      <td>337</td>\n",
              "      <td>372</td>\n",
              "      <td>11</td>\n",
              "      <td>23</td>\n",
              "      <td>30.0</td>\n",
              "      <td>16.0</td>\n",
              "      <td>4.0</td>\n",
              "      <td>29</td>\n",
              "      <td>5</td>\n",
              "      <td>7.500000</td>\n",
              "      <td>0</td>\n",
              "      <td>0.0</td>\n",
              "    </tr>\n",
              "    <tr>\n",
              "      <th>3116</th>\n",
              "      <td>3117</td>\n",
              "      <td>23258</td>\n",
              "      <td>0</td>\n",
              "      <td>1</td>\n",
              "      <td>0</td>\n",
              "      <td>0</td>\n",
              "      <td>0</td>\n",
              "      <td>1</td>\n",
              "      <td>2</td>\n",
              "      <td>0</td>\n",
              "      <td>8</td>\n",
              "      <td>590</td>\n",
              "      <td>319</td>\n",
              "      <td>400</td>\n",
              "      <td>0</td>\n",
              "      <td>29</td>\n",
              "      <td>53.0</td>\n",
              "      <td>30.0</td>\n",
              "      <td>30.0</td>\n",
              "      <td>37</td>\n",
              "      <td>9</td>\n",
              "      <td>26.500000</td>\n",
              "      <td>1</td>\n",
              "      <td>40.0</td>\n",
              "    </tr>\n",
              "    <tr>\n",
              "      <th>3117</th>\n",
              "      <td>3118</td>\n",
              "      <td>23261</td>\n",
              "      <td>0</td>\n",
              "      <td>0</td>\n",
              "      <td>0</td>\n",
              "      <td>1</td>\n",
              "      <td>1</td>\n",
              "      <td>1</td>\n",
              "      <td>3</td>\n",
              "      <td>0</td>\n",
              "      <td>7</td>\n",
              "      <td>3129</td>\n",
              "      <td>547</td>\n",
              "      <td>580</td>\n",
              "      <td>6</td>\n",
              "      <td>79</td>\n",
              "      <td>212.0</td>\n",
              "      <td>20.0</td>\n",
              "      <td>20.0</td>\n",
              "      <td>36</td>\n",
              "      <td>3</td>\n",
              "      <td>11.157895</td>\n",
              "      <td>0</td>\n",
              "      <td>0.0</td>\n",
              "    </tr>\n",
              "    <tr>\n",
              "      <th>3118</th>\n",
              "      <td>3119</td>\n",
              "      <td>23265</td>\n",
              "      <td>0</td>\n",
              "      <td>0</td>\n",
              "      <td>0</td>\n",
              "      <td>1</td>\n",
              "      <td>1</td>\n",
              "      <td>1</td>\n",
              "      <td>7</td>\n",
              "      <td>1</td>\n",
              "      <td>8</td>\n",
              "      <td>1345</td>\n",
              "      <td>514</td>\n",
              "      <td>525</td>\n",
              "      <td>6</td>\n",
              "      <td>27</td>\n",
              "      <td>60.0</td>\n",
              "      <td>20.0</td>\n",
              "      <td>20.0</td>\n",
              "      <td>31</td>\n",
              "      <td>9</td>\n",
              "      <td>20.000000</td>\n",
              "      <td>0</td>\n",
              "      <td>0.0</td>\n",
              "    </tr>\n",
              "    <tr>\n",
              "      <th>3119</th>\n",
              "      <td>3120</td>\n",
              "      <td>23293</td>\n",
              "      <td>0</td>\n",
              "      <td>0</td>\n",
              "      <td>1</td>\n",
              "      <td>0</td>\n",
              "      <td>1</td>\n",
              "      <td>1</td>\n",
              "      <td>5</td>\n",
              "      <td>1</td>\n",
              "      <td>4</td>\n",
              "      <td>882</td>\n",
              "      <td>315</td>\n",
              "      <td>374</td>\n",
              "      <td>21</td>\n",
              "      <td>46</td>\n",
              "      <td>111.0</td>\n",
              "      <td>22.0</td>\n",
              "      <td>9.0</td>\n",
              "      <td>36</td>\n",
              "      <td>5</td>\n",
              "      <td>9.250000</td>\n",
              "      <td>0</td>\n",
              "      <td>0.0</td>\n",
              "    </tr>\n",
              "  </tbody>\n",
              "</table>\n",
              "<p>3120 rows × 24 columns</p>\n",
              "</div>"
            ],
            "text/plain": [
              "      Row Id  Row Id.  zipconvert_2  ...    AVGGIFT  TARGET_B  TARGET_D\n",
              "0          1       17             0  ...   4.857143         1       5.0\n",
              "1          2       25             1  ...   9.400000         1      10.0\n",
              "2          3       29             0  ...   4.285714         1       5.0\n",
              "3          4       38             0  ...   7.080000         0       0.0\n",
              "4          5       40             0  ...   7.666667         0       0.0\n",
              "...      ...      ...           ...  ...        ...       ...       ...\n",
              "3115    3116    23256             0  ...   7.500000         0       0.0\n",
              "3116    3117    23258             0  ...  26.500000         1      40.0\n",
              "3117    3118    23261             0  ...  11.157895         0       0.0\n",
              "3118    3119    23265             0  ...  20.000000         0       0.0\n",
              "3119    3120    23293             0  ...   9.250000         0       0.0\n",
              "\n",
              "[3120 rows x 24 columns]"
            ]
          },
          "metadata": {
            "tags": []
          },
          "execution_count": 21
        }
      ]
    },
    {
      "cell_type": "markdown",
      "metadata": {
        "id": "1kSQug20jVwE"
      },
      "source": [
        "Read in the csv and create a dataframe using pandas"
      ]
    },
    {
      "cell_type": "code",
      "metadata": {
        "colab": {
          "base_uri": "https://localhost:8080/",
          "height": 232
        },
        "id": "T6h_VeZyjcvh",
        "outputId": "190d5631-ae64-4635-a84a-81dd62bdd22f"
      },
      "source": [
        "df=df.rename(columns={\"zipconvert_2\":\"REG1\",\"zipconvert_3\":\"REG2\",\"zipconvert_4\":\"REG3\",\"zipconvert_5\":\"REG4\"})\n",
        "df.head()\n"
      ],
      "execution_count": 12,
      "outputs": [
        {
          "output_type": "execute_result",
          "data": {
            "text/html": [
              "<div>\n",
              "<style scoped>\n",
              "    .dataframe tbody tr th:only-of-type {\n",
              "        vertical-align: middle;\n",
              "    }\n",
              "\n",
              "    .dataframe tbody tr th {\n",
              "        vertical-align: top;\n",
              "    }\n",
              "\n",
              "    .dataframe thead th {\n",
              "        text-align: right;\n",
              "    }\n",
              "</style>\n",
              "<table border=\"1\" class=\"dataframe\">\n",
              "  <thead>\n",
              "    <tr style=\"text-align: right;\">\n",
              "      <th></th>\n",
              "      <th>Row Id</th>\n",
              "      <th>Row Id.</th>\n",
              "      <th>REG1</th>\n",
              "      <th>REG2</th>\n",
              "      <th>REG3</th>\n",
              "      <th>REG4</th>\n",
              "      <th>homeowner dummy</th>\n",
              "      <th>NUMCHLD</th>\n",
              "      <th>INCOME</th>\n",
              "      <th>gender dummy</th>\n",
              "      <th>WEALTH</th>\n",
              "      <th>HV</th>\n",
              "      <th>Icmed</th>\n",
              "      <th>Icavg</th>\n",
              "      <th>IC15</th>\n",
              "      <th>NUMPROM</th>\n",
              "      <th>RAMNTALL</th>\n",
              "      <th>MAXRAMNT</th>\n",
              "      <th>LASTGIFT</th>\n",
              "      <th>totalmonths</th>\n",
              "      <th>TIMELAG</th>\n",
              "      <th>AVGGIFT</th>\n",
              "      <th>TARGET_B</th>\n",
              "      <th>TARGET_D</th>\n",
              "    </tr>\n",
              "  </thead>\n",
              "  <tbody>\n",
              "    <tr>\n",
              "      <th>0</th>\n",
              "      <td>1</td>\n",
              "      <td>17</td>\n",
              "      <td>0</td>\n",
              "      <td>1</td>\n",
              "      <td>0</td>\n",
              "      <td>0</td>\n",
              "      <td>1</td>\n",
              "      <td>1</td>\n",
              "      <td>5</td>\n",
              "      <td>1</td>\n",
              "      <td>9</td>\n",
              "      <td>1399</td>\n",
              "      <td>637</td>\n",
              "      <td>703</td>\n",
              "      <td>1</td>\n",
              "      <td>74</td>\n",
              "      <td>102.0</td>\n",
              "      <td>6.0</td>\n",
              "      <td>5.0</td>\n",
              "      <td>29</td>\n",
              "      <td>3</td>\n",
              "      <td>4.857143</td>\n",
              "      <td>1</td>\n",
              "      <td>5.0</td>\n",
              "    </tr>\n",
              "    <tr>\n",
              "      <th>1</th>\n",
              "      <td>2</td>\n",
              "      <td>25</td>\n",
              "      <td>1</td>\n",
              "      <td>0</td>\n",
              "      <td>0</td>\n",
              "      <td>0</td>\n",
              "      <td>1</td>\n",
              "      <td>1</td>\n",
              "      <td>1</td>\n",
              "      <td>0</td>\n",
              "      <td>7</td>\n",
              "      <td>698</td>\n",
              "      <td>422</td>\n",
              "      <td>463</td>\n",
              "      <td>4</td>\n",
              "      <td>46</td>\n",
              "      <td>94.0</td>\n",
              "      <td>12.0</td>\n",
              "      <td>12.0</td>\n",
              "      <td>34</td>\n",
              "      <td>6</td>\n",
              "      <td>9.400000</td>\n",
              "      <td>1</td>\n",
              "      <td>10.0</td>\n",
              "    </tr>\n",
              "    <tr>\n",
              "      <th>2</th>\n",
              "      <td>3</td>\n",
              "      <td>29</td>\n",
              "      <td>0</td>\n",
              "      <td>0</td>\n",
              "      <td>0</td>\n",
              "      <td>1</td>\n",
              "      <td>0</td>\n",
              "      <td>2</td>\n",
              "      <td>5</td>\n",
              "      <td>1</td>\n",
              "      <td>8</td>\n",
              "      <td>828</td>\n",
              "      <td>358</td>\n",
              "      <td>376</td>\n",
              "      <td>13</td>\n",
              "      <td>32</td>\n",
              "      <td>30.0</td>\n",
              "      <td>10.0</td>\n",
              "      <td>5.0</td>\n",
              "      <td>29</td>\n",
              "      <td>7</td>\n",
              "      <td>4.285714</td>\n",
              "      <td>1</td>\n",
              "      <td>5.0</td>\n",
              "    </tr>\n",
              "    <tr>\n",
              "      <th>3</th>\n",
              "      <td>4</td>\n",
              "      <td>38</td>\n",
              "      <td>0</td>\n",
              "      <td>0</td>\n",
              "      <td>0</td>\n",
              "      <td>1</td>\n",
              "      <td>1</td>\n",
              "      <td>1</td>\n",
              "      <td>3</td>\n",
              "      <td>0</td>\n",
              "      <td>4</td>\n",
              "      <td>1471</td>\n",
              "      <td>484</td>\n",
              "      <td>546</td>\n",
              "      <td>4</td>\n",
              "      <td>94</td>\n",
              "      <td>177.0</td>\n",
              "      <td>10.0</td>\n",
              "      <td>8.0</td>\n",
              "      <td>30</td>\n",
              "      <td>3</td>\n",
              "      <td>7.080000</td>\n",
              "      <td>0</td>\n",
              "      <td>0.0</td>\n",
              "    </tr>\n",
              "    <tr>\n",
              "      <th>4</th>\n",
              "      <td>5</td>\n",
              "      <td>40</td>\n",
              "      <td>0</td>\n",
              "      <td>1</td>\n",
              "      <td>0</td>\n",
              "      <td>0</td>\n",
              "      <td>1</td>\n",
              "      <td>1</td>\n",
              "      <td>4</td>\n",
              "      <td>0</td>\n",
              "      <td>8</td>\n",
              "      <td>547</td>\n",
              "      <td>386</td>\n",
              "      <td>432</td>\n",
              "      <td>7</td>\n",
              "      <td>20</td>\n",
              "      <td>23.0</td>\n",
              "      <td>11.0</td>\n",
              "      <td>11.0</td>\n",
              "      <td>30</td>\n",
              "      <td>6</td>\n",
              "      <td>7.666667</td>\n",
              "      <td>0</td>\n",
              "      <td>0.0</td>\n",
              "    </tr>\n",
              "  </tbody>\n",
              "</table>\n",
              "</div>"
            ],
            "text/plain": [
              "   Row Id  Row Id.  REG1  REG2  ...  TIMELAG   AVGGIFT  TARGET_B  TARGET_D\n",
              "0       1       17     0     1  ...        3  4.857143         1       5.0\n",
              "1       2       25     1     0  ...        6  9.400000         1      10.0\n",
              "2       3       29     0     0  ...        7  4.285714         1       5.0\n",
              "3       4       38     0     0  ...        3  7.080000         0       0.0\n",
              "4       5       40     0     1  ...        6  7.666667         0       0.0\n",
              "\n",
              "[5 rows x 24 columns]"
            ]
          },
          "metadata": {
            "tags": []
          },
          "execution_count": 12
        }
      ]
    },
    {
      "cell_type": "code",
      "metadata": {
        "colab": {
          "base_uri": "https://localhost:8080/",
          "height": 232
        },
        "id": "1f1eALg-zpZw",
        "outputId": "a6f27148-7f26-48ef-86fe-f29bd82d29af"
      },
      "source": [
        "donor_df = df.loc[df['TARGET_B'] == 1]\n",
        "donor_df.head()"
      ],
      "execution_count": 13,
      "outputs": [
        {
          "output_type": "execute_result",
          "data": {
            "text/html": [
              "<div>\n",
              "<style scoped>\n",
              "    .dataframe tbody tr th:only-of-type {\n",
              "        vertical-align: middle;\n",
              "    }\n",
              "\n",
              "    .dataframe tbody tr th {\n",
              "        vertical-align: top;\n",
              "    }\n",
              "\n",
              "    .dataframe thead th {\n",
              "        text-align: right;\n",
              "    }\n",
              "</style>\n",
              "<table border=\"1\" class=\"dataframe\">\n",
              "  <thead>\n",
              "    <tr style=\"text-align: right;\">\n",
              "      <th></th>\n",
              "      <th>Row Id</th>\n",
              "      <th>Row Id.</th>\n",
              "      <th>REG1</th>\n",
              "      <th>REG2</th>\n",
              "      <th>REG3</th>\n",
              "      <th>REG4</th>\n",
              "      <th>homeowner dummy</th>\n",
              "      <th>NUMCHLD</th>\n",
              "      <th>INCOME</th>\n",
              "      <th>gender dummy</th>\n",
              "      <th>WEALTH</th>\n",
              "      <th>HV</th>\n",
              "      <th>Icmed</th>\n",
              "      <th>Icavg</th>\n",
              "      <th>IC15</th>\n",
              "      <th>NUMPROM</th>\n",
              "      <th>RAMNTALL</th>\n",
              "      <th>MAXRAMNT</th>\n",
              "      <th>LASTGIFT</th>\n",
              "      <th>totalmonths</th>\n",
              "      <th>TIMELAG</th>\n",
              "      <th>AVGGIFT</th>\n",
              "      <th>TARGET_B</th>\n",
              "      <th>TARGET_D</th>\n",
              "    </tr>\n",
              "  </thead>\n",
              "  <tbody>\n",
              "    <tr>\n",
              "      <th>0</th>\n",
              "      <td>1</td>\n",
              "      <td>17</td>\n",
              "      <td>0</td>\n",
              "      <td>1</td>\n",
              "      <td>0</td>\n",
              "      <td>0</td>\n",
              "      <td>1</td>\n",
              "      <td>1</td>\n",
              "      <td>5</td>\n",
              "      <td>1</td>\n",
              "      <td>9</td>\n",
              "      <td>1399</td>\n",
              "      <td>637</td>\n",
              "      <td>703</td>\n",
              "      <td>1</td>\n",
              "      <td>74</td>\n",
              "      <td>102.0</td>\n",
              "      <td>6.0</td>\n",
              "      <td>5.0</td>\n",
              "      <td>29</td>\n",
              "      <td>3</td>\n",
              "      <td>4.857143</td>\n",
              "      <td>1</td>\n",
              "      <td>5.0</td>\n",
              "    </tr>\n",
              "    <tr>\n",
              "      <th>1</th>\n",
              "      <td>2</td>\n",
              "      <td>25</td>\n",
              "      <td>1</td>\n",
              "      <td>0</td>\n",
              "      <td>0</td>\n",
              "      <td>0</td>\n",
              "      <td>1</td>\n",
              "      <td>1</td>\n",
              "      <td>1</td>\n",
              "      <td>0</td>\n",
              "      <td>7</td>\n",
              "      <td>698</td>\n",
              "      <td>422</td>\n",
              "      <td>463</td>\n",
              "      <td>4</td>\n",
              "      <td>46</td>\n",
              "      <td>94.0</td>\n",
              "      <td>12.0</td>\n",
              "      <td>12.0</td>\n",
              "      <td>34</td>\n",
              "      <td>6</td>\n",
              "      <td>9.400000</td>\n",
              "      <td>1</td>\n",
              "      <td>10.0</td>\n",
              "    </tr>\n",
              "    <tr>\n",
              "      <th>2</th>\n",
              "      <td>3</td>\n",
              "      <td>29</td>\n",
              "      <td>0</td>\n",
              "      <td>0</td>\n",
              "      <td>0</td>\n",
              "      <td>1</td>\n",
              "      <td>0</td>\n",
              "      <td>2</td>\n",
              "      <td>5</td>\n",
              "      <td>1</td>\n",
              "      <td>8</td>\n",
              "      <td>828</td>\n",
              "      <td>358</td>\n",
              "      <td>376</td>\n",
              "      <td>13</td>\n",
              "      <td>32</td>\n",
              "      <td>30.0</td>\n",
              "      <td>10.0</td>\n",
              "      <td>5.0</td>\n",
              "      <td>29</td>\n",
              "      <td>7</td>\n",
              "      <td>4.285714</td>\n",
              "      <td>1</td>\n",
              "      <td>5.0</td>\n",
              "    </tr>\n",
              "    <tr>\n",
              "      <th>5</th>\n",
              "      <td>6</td>\n",
              "      <td>53</td>\n",
              "      <td>0</td>\n",
              "      <td>1</td>\n",
              "      <td>0</td>\n",
              "      <td>0</td>\n",
              "      <td>1</td>\n",
              "      <td>1</td>\n",
              "      <td>4</td>\n",
              "      <td>1</td>\n",
              "      <td>8</td>\n",
              "      <td>482</td>\n",
              "      <td>242</td>\n",
              "      <td>275</td>\n",
              "      <td>28</td>\n",
              "      <td>38</td>\n",
              "      <td>73.0</td>\n",
              "      <td>10.0</td>\n",
              "      <td>10.0</td>\n",
              "      <td>31</td>\n",
              "      <td>3</td>\n",
              "      <td>7.300000</td>\n",
              "      <td>1</td>\n",
              "      <td>8.0</td>\n",
              "    </tr>\n",
              "    <tr>\n",
              "      <th>6</th>\n",
              "      <td>7</td>\n",
              "      <td>58</td>\n",
              "      <td>0</td>\n",
              "      <td>0</td>\n",
              "      <td>0</td>\n",
              "      <td>1</td>\n",
              "      <td>1</td>\n",
              "      <td>1</td>\n",
              "      <td>4</td>\n",
              "      <td>1</td>\n",
              "      <td>8</td>\n",
              "      <td>857</td>\n",
              "      <td>450</td>\n",
              "      <td>498</td>\n",
              "      <td>5</td>\n",
              "      <td>47</td>\n",
              "      <td>139.0</td>\n",
              "      <td>20.0</td>\n",
              "      <td>20.0</td>\n",
              "      <td>37</td>\n",
              "      <td>3</td>\n",
              "      <td>10.692308</td>\n",
              "      <td>1</td>\n",
              "      <td>10.0</td>\n",
              "    </tr>\n",
              "  </tbody>\n",
              "</table>\n",
              "</div>"
            ],
            "text/plain": [
              "   Row Id  Row Id.  REG1  REG2  ...  TIMELAG    AVGGIFT  TARGET_B  TARGET_D\n",
              "0       1       17     0     1  ...        3   4.857143         1       5.0\n",
              "1       2       25     1     0  ...        6   9.400000         1      10.0\n",
              "2       3       29     0     0  ...        7   4.285714         1       5.0\n",
              "5       6       53     0     1  ...        3   7.300000         1       8.0\n",
              "6       7       58     0     0  ...        3  10.692308         1      10.0\n",
              "\n",
              "[5 rows x 24 columns]"
            ]
          },
          "metadata": {
            "tags": []
          },
          "execution_count": 13
        }
      ]
    },
    {
      "cell_type": "markdown",
      "metadata": {
        "id": "kTxJHLFMlHBj"
      },
      "source": [
        "rename the zipconvert columns to show what region they are a part of. Once that is done, create a new dataframe that only looks at the donors (where target_b = 1)."
      ]
    },
    {
      "cell_type": "code",
      "metadata": {
        "colab": {
          "base_uri": "https://localhost:8080/"
        },
        "id": "wRyNatZAkiNg",
        "outputId": "e689563f-68a2-4b12-ee90-d048ac94a13d"
      },
      "source": [
        "donor_df['WEALTH'].mean()\n",
        "donor_df['RAMNTALL'].mean()"
      ],
      "execution_count": 20,
      "outputs": [
        {
          "output_type": "execute_result",
          "data": {
            "text/plain": [
              "113.28614743589742"
            ]
          },
          "metadata": {
            "tags": []
          },
          "execution_count": 20
        }
      ]
    },
    {
      "cell_type": "code",
      "metadata": {
        "colab": {
          "base_uri": "https://localhost:8080/",
          "height": 295
        },
        "id": "6myvgIom3E5e",
        "outputId": "21a9c8c1-9622-433b-8646-0b43ec5d57e6"
      },
      "source": [
        "plt.plot(donor_df.WEALTH, donor_df.MAXRAMNT, 'o')\n",
        "plt.title('Type of Wealth vs Max Donations')\n",
        "plt.xlabel('Wealth')\n",
        "plt.ylabel('Total Donation')\n",
        "plt.show()"
      ],
      "execution_count": 30,
      "outputs": [
        {
          "output_type": "display_data",
          "data": {
            "image/png": "[encoded data removed]",
            "text/plain": [
              "<Figure size 432x288 with 1 Axes>"
            ]
          },
          "metadata": {
            "tags": [],
            "needs_background": "light"
          }
        }
      ]
    },
    {
      "cell_type": "code",
      "metadata": {
        "colab": {
          "base_uri": "https://localhost:8080/",
          "height": 295
        },
        "id": "nOkuWOufc07L",
        "outputId": "cc577c55-d4f9-43e0-9c74-107281ae8333"
      },
      "source": [
        "plt.plot(donor_df.WEALTH, donor_df.HV, 'o')\n",
        "plt.title('Type of Wealth vs Average Home Value')\n",
        "plt.xlabel('Wealth')\n",
        "plt.ylabel('Home Value')\n",
        "plt.show()"
      ],
      "execution_count": 32,
      "outputs": [
        {
          "output_type": "display_data",
          "data": {
            "image/png": "[encoded data removed]",
            "text/plain": [
              "<Figure size 432x288 with 1 Axes>"
            ]
          },
          "metadata": {
            "tags": [],
            "needs_background": "light"
          }
        }
      ]
    },
    {
      "cell_type": "code",
      "metadata": {
        "colab": {
          "base_uri": "https://localhost:8080/",
          "height": 295
        },
        "id": "s72iLhxTS-Hv",
        "outputId": "58b3d461-bbfe-467f-a70e-8cbd445ee8e6"
      },
      "source": [
        "fem_df = donor_df.loc[donor_df['gender dummy'] == 1]\n",
        "fem_df.head()\n",
        "plt.plot(fem_df.WEALTH, fem_df.MAXRAMNT, 'o')\n",
        "plt.title('Type of Wealth vs Donations')\n",
        "plt.xlabel('Wealth')\n",
        "plt.ylabel('Total Donation')\n",
        "plt.show()"
      ],
      "execution_count": 28,
      "outputs": [
        {
          "output_type": "display_data",
          "data": {
            "image/png": "[encoded data removed]",
            "text/plain": [
              "<Figure size 432x288 with 1 Axes>"
            ]
          },
          "metadata": {
            "tags": [],
            "needs_background": "light"
          }
        }
      ]
    },
    {
      "cell_type": "code",
      "metadata": {
        "id": "MN1PFBkTdzbT"
      },
      "source": [
        "mean_df =donor_df.groupby(['WEALTH']).mean()"
      ],
      "execution_count": 36,
      "outputs": []
    },
    {
      "cell_type": "code",
      "metadata": {
        "id": "L8uZpo6bfHqH"
      },
      "source": [
        "split up the donor information into sections of wealth and get the average of each"
      ],
      "execution_count": null,
      "outputs": []
    },
    {
      "cell_type": "code",
      "metadata": {
        "colab": {
          "base_uri": "https://localhost:8080/",
          "height": 279
        },
        "id": "BmD4CQv4idHb",
        "outputId": "22fb4dbb-5795-46a5-e619-ef2f99d3c43f"
      },
      "source": [
        "mean_df.reset_index().plot(x ='WEALTH', y='HV', kind = 'line')\n",
        "plt.show()"
      ],
      "execution_count": 42,
      "outputs": [
        {
          "output_type": "display_data",
          "data": {
            "image/png": "[encoded data removed]",
            "text/plain": [
              "<Figure size 432x288 with 1 Axes>"
            ]
          },
          "metadata": {
            "tags": [],
            "needs_background": "light"
          }
        }
      ]
    },
    {
      "cell_type": "code",
      "metadata": {
        "id": "eoOZjB1kjdTf"
      },
      "source": [
        "wealth vs the average overall donation"
      ],
      "execution_count": null,
      "outputs": []
    },
    {
      "cell_type": "code",
      "metadata": {
        "colab": {
          "base_uri": "https://localhost:8080/",
          "height": 279
        },
        "id": "H1hQj7hml8Gs",
        "outputId": "df481950-0492-4a01-a62f-5160ea7f493c"
      },
      "source": [
        "mean_df.reset_index().plot(x ='WEALTH', y='RAMNTALL', kind = 'line')\n",
        "plt.show()"
      ],
      "execution_count": 43,
      "outputs": [
        {
          "output_type": "display_data",
          "data": {
            "image/png": "[encoded data removed]",
            "text/plain": [
              "<Figure size 432x288 with 1 Axes>"
            ]
          },
          "metadata": {
            "tags": [],
            "needs_background": "light"
          }
        }
      ]
    },
    {
      "cell_type": "code",
      "metadata": {
        "colab": {
          "base_uri": "https://localhost:8080/",
          "height": 279
        },
        "id": "03wWyGVTnYdf",
        "outputId": "1dcacba9-b226-4db2-a055-304417f7d8eb"
      },
      "source": [
        "mean_df.reset_index().plot(x ='WEALTH', y='totalmonths', kind = 'line')\n",
        "plt.show()"
      ],
      "execution_count": 45,
      "outputs": [
        {
          "output_type": "display_data",
          "data": {
            "image/png": "[encoded data removed]",
            "text/plain": [
              "<Figure size 432x288 with 1 Axes>"
            ]
          },
          "metadata": {
            "tags": [],
            "needs_background": "light"
          }
        }
      ]
    }
  ]
}